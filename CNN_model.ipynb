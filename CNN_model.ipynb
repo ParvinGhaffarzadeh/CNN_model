{
  "nbformat": 4,
  "nbformat_minor": 0,
  "metadata": {
    "colab": {
      "name": "CNN_model.ipynb",
      "provenance": [],
      "collapsed_sections": [],
      "include_colab_link": true
    },
    "kernelspec": {
      "name": "python3",
      "display_name": "Python 3"
    },
    "language_info": {
      "name": "python"
    },
    "accelerator": "GPU"
  },
  "cells": [
    {
      "cell_type": "markdown",
      "metadata": {
        "id": "view-in-github",
        "colab_type": "text"
      },
      "source": [
        "<a href=\"https://colab.research.google.com/github/ParvinGhaffarzadeh/CNN_model/blob/main/CNN_model.ipynb\" target=\"_parent\"><img src=\"https://colab.research.google.com/assets/colab-badge.svg\" alt=\"Open In Colab\"/></a>"
      ]
    },
    {
      "cell_type": "code",
      "metadata": {
        "id": "lXnH_KBbGJ0g"
      },
      "source": [
        "import glob\n",
        "import os\n",
        "import random\n",
        "import tensorflow as tf\n",
        "from tensorflow import keras\n",
        "import numpy as np\n",
        "import seaborn as sn\n",
        "import pandas as pd\n",
        "from matplotlib import pyplot as plt\n",
        "from tqdm import tqdm\n",
        "from sklearn.metrics import confusion_matrix\n",
        "from sklearn.metrics import precision_recall_fscore_support"
      ],
      "execution_count": 1,
      "outputs": []
    },
    {
      "cell_type": "code",
      "metadata": {
        "id": "pJ0W5JD_GkgO",
        "colab": {
          "base_uri": "https://localhost:8080/",
          "height": 35
        },
        "outputId": "ad2e11d2-098f-48f4-8dc1-02193e423cf2"
      },
      "source": [
        "keras.__version__"
      ],
      "execution_count": 2,
      "outputs": [
        {
          "output_type": "execute_result",
          "data": {
            "application/vnd.google.colaboratory.intrinsic+json": {
              "type": "string"
            },
            "text/plain": [
              "'2.7.0'"
            ]
          },
          "metadata": {},
          "execution_count": 2
        }
      ]
    },
    {
      "cell_type": "code",
      "metadata": {
        "colab": {
          "base_uri": "https://localhost:8080/"
        },
        "id": "ClMd7pypOs0N",
        "outputId": "1d5bf6c4-2f86-4075-bf63-46380abbb102"
      },
      "source": [
        "# implement the progect with GPU\n",
        "from tensorflow.python.client import device_lib\n",
        "print(device_lib.list_local_devices())"
      ],
      "execution_count": 3,
      "outputs": [
        {
          "output_type": "stream",
          "name": "stdout",
          "text": [
            "[name: \"/device:CPU:0\"\n",
            "device_type: \"CPU\"\n",
            "memory_limit: 268435456\n",
            "locality {\n",
            "}\n",
            "incarnation: 16221468425977684763\n",
            "xla_global_id: -1\n",
            ", name: \"/device:GPU:0\"\n",
            "device_type: \"GPU\"\n",
            "memory_limit: 11320098816\n",
            "locality {\n",
            "  bus_id: 1\n",
            "  links {\n",
            "  }\n",
            "}\n",
            "incarnation: 12569889480539827177\n",
            "physical_device_desc: \"device: 0, name: Tesla K80, pci bus id: 0000:00:04.0, compute capability: 3.7\"\n",
            "xla_global_id: 416903419\n",
            "]\n"
          ]
        }
      ]
    },
    {
      "cell_type": "code",
      "metadata": {
        "id": "bkypn1nzHJyT",
        "colab": {
          "base_uri": "https://localhost:8080/"
        },
        "outputId": "35aab80d-d650-4f5d-c48c-e0c49d4cb581"
      },
      "source": [
        "from google.colab import drive\n",
        "drive.mount('/content/drive')"
      ],
      "execution_count": 4,
      "outputs": [
        {
          "output_type": "stream",
          "name": "stdout",
          "text": [
            "Mounted at /content/drive\n"
          ]
        }
      ]
    },
    {
      "cell_type": "markdown",
      "source": [
        ""
      ],
      "metadata": {
        "id": "R9OMrAtXQWSQ"
      }
    },
    {
      "cell_type": "code",
      "metadata": {
        "colab": {
          "base_uri": "https://localhost:8080/"
        },
        "id": "Pgwjxfpi01fL",
        "outputId": "bcb157ab-3693-4c89-ca8a-02ee8585c417"
      },
      "source": [
        "#unzip ALL_IDB dataset\n",
        "!unzip \"/content/drive/MyDrive/ALL_IDB.zip\""
      ],
      "execution_count": 5,
      "outputs": [
        {
          "output_type": "stream",
          "name": "stdout",
          "text": [
            "Archive:  /content/drive/MyDrive/ALL_IDB.zip\n",
            "   creating: ALL_IDB/\n",
            "   creating: ALL_IDB/ALL_IDB1/\n",
            "   creating: ALL_IDB/ALL_IDB1/im/\n",
            "  inflating: ALL_IDB/ALL_IDB1/im/Im001_1.jpg  \n",
            "  inflating: ALL_IDB/ALL_IDB1/im/Im002_1.jpg  \n",
            "  inflating: ALL_IDB/ALL_IDB1/im/Im003_1.jpg  \n",
            "  inflating: ALL_IDB/ALL_IDB1/im/Im004_1.jpg  \n",
            "  inflating: ALL_IDB/ALL_IDB1/im/Im005_1.jpg  \n",
            "  inflating: ALL_IDB/ALL_IDB1/im/Im006_1.jpg  \n",
            "  inflating: ALL_IDB/ALL_IDB1/im/Im007_1.jpg  \n",
            "  inflating: ALL_IDB/ALL_IDB1/im/Im008_1.jpg  \n",
            "  inflating: ALL_IDB/ALL_IDB1/im/Im009_1.jpg  \n",
            "  inflating: ALL_IDB/ALL_IDB1/im/Im010_1.jpg  \n",
            "  inflating: ALL_IDB/ALL_IDB1/im/Im011_1.jpg  \n",
            "  inflating: ALL_IDB/ALL_IDB1/im/Im012_1.jpg  \n",
            "  inflating: ALL_IDB/ALL_IDB1/im/Im013_1.jpg  \n",
            "  inflating: ALL_IDB/ALL_IDB1/im/Im014_1.jpg  \n",
            "  inflating: ALL_IDB/ALL_IDB1/im/Im015_1.jpg  \n",
            "  inflating: ALL_IDB/ALL_IDB1/im/Im016_1.jpg  \n",
            "  inflating: ALL_IDB/ALL_IDB1/im/Im017_1.jpg  \n",
            "  inflating: ALL_IDB/ALL_IDB1/im/Im018_1.jpg  \n",
            "  inflating: ALL_IDB/ALL_IDB1/im/Im019_1.jpg  \n",
            "  inflating: ALL_IDB/ALL_IDB1/im/Im020_1.jpg  \n",
            "  inflating: ALL_IDB/ALL_IDB1/im/Im021_1.jpg  \n",
            "  inflating: ALL_IDB/ALL_IDB1/im/Im022_1.jpg  \n",
            "  inflating: ALL_IDB/ALL_IDB1/im/Im023_1.jpg  \n",
            "  inflating: ALL_IDB/ALL_IDB1/im/Im024_1.jpg  \n",
            "  inflating: ALL_IDB/ALL_IDB1/im/Im025_1.jpg  \n",
            "  inflating: ALL_IDB/ALL_IDB1/im/Im026_1.jpg  \n",
            "  inflating: ALL_IDB/ALL_IDB1/im/Im027_1.jpg  \n",
            "  inflating: ALL_IDB/ALL_IDB1/im/Im028_1.jpg  \n",
            "  inflating: ALL_IDB/ALL_IDB1/im/Im029_1.jpg  \n",
            "  inflating: ALL_IDB/ALL_IDB1/im/Im030_1.jpg  \n",
            "  inflating: ALL_IDB/ALL_IDB1/im/Im031_1.jpg  \n",
            "  inflating: ALL_IDB/ALL_IDB1/im/Im032_1.jpg  \n",
            "  inflating: ALL_IDB/ALL_IDB1/im/Im033_1.jpg  \n",
            "  inflating: ALL_IDB/ALL_IDB1/im/Im034_0.jpg  \n",
            "  inflating: ALL_IDB/ALL_IDB1/im/Im035_0.jpg  \n",
            "  inflating: ALL_IDB/ALL_IDB1/im/Im036_0.jpg  \n",
            "  inflating: ALL_IDB/ALL_IDB1/im/Im037_0.jpg  \n",
            "  inflating: ALL_IDB/ALL_IDB1/im/Im038_0.jpg  \n",
            "  inflating: ALL_IDB/ALL_IDB1/im/Im039_0.jpg  \n",
            "  inflating: ALL_IDB/ALL_IDB1/im/Im040_0.jpg  \n",
            "  inflating: ALL_IDB/ALL_IDB1/im/Im041_0.jpg  \n",
            "  inflating: ALL_IDB/ALL_IDB1/im/Im042_0.jpg  \n",
            "  inflating: ALL_IDB/ALL_IDB1/im/Im043_0.jpg  \n",
            "  inflating: ALL_IDB/ALL_IDB1/im/Im044_0.jpg  \n",
            "  inflating: ALL_IDB/ALL_IDB1/im/Im045_0.jpg  \n",
            "  inflating: ALL_IDB/ALL_IDB1/im/Im046_0.jpg  \n",
            "  inflating: ALL_IDB/ALL_IDB1/im/Im047_0.jpg  \n",
            "  inflating: ALL_IDB/ALL_IDB1/im/Im048_1.jpg  \n",
            "  inflating: ALL_IDB/ALL_IDB1/im/Im049_1.jpg  \n",
            "  inflating: ALL_IDB/ALL_IDB1/im/Im050_1.jpg  \n",
            "  inflating: ALL_IDB/ALL_IDB1/im/Im051_1.jpg  \n",
            "  inflating: ALL_IDB/ALL_IDB1/im/Im052_1.jpg  \n",
            "  inflating: ALL_IDB/ALL_IDB1/im/Im053_1.jpg  \n",
            "  inflating: ALL_IDB/ALL_IDB1/im/Im054_1.jpg  \n",
            "  inflating: ALL_IDB/ALL_IDB1/im/Im055_1.jpg  \n",
            "  inflating: ALL_IDB/ALL_IDB1/im/Im056_1.jpg  \n",
            "  inflating: ALL_IDB/ALL_IDB1/im/Im057_1.jpg  \n",
            "  inflating: ALL_IDB/ALL_IDB1/im/Im058_1.jpg  \n",
            "  inflating: ALL_IDB/ALL_IDB1/im/Im059_1.jpg  \n",
            "  inflating: ALL_IDB/ALL_IDB1/im/Im060_1.jpg  \n",
            "  inflating: ALL_IDB/ALL_IDB1/im/Im061_1.jpg  \n",
            "  inflating: ALL_IDB/ALL_IDB1/im/Im062_1.jpg  \n",
            "  inflating: ALL_IDB/ALL_IDB1/im/Im063_1.jpg  \n",
            "  inflating: ALL_IDB/ALL_IDB1/im/Im064_0.jpg  \n",
            "  inflating: ALL_IDB/ALL_IDB1/im/Im065_0.jpg  \n",
            "  inflating: ALL_IDB/ALL_IDB1/im/Im066_0.jpg  \n",
            "  inflating: ALL_IDB/ALL_IDB1/im/Im067_0.jpg  \n",
            "  inflating: ALL_IDB/ALL_IDB1/im/Im068_0.jpg  \n",
            "  inflating: ALL_IDB/ALL_IDB1/im/Im069_0.jpg  \n",
            "  inflating: ALL_IDB/ALL_IDB1/im/Im070_0.jpg  \n",
            "  inflating: ALL_IDB/ALL_IDB1/im/Im071_0.jpg  \n",
            "  inflating: ALL_IDB/ALL_IDB1/im/Im072_0.jpg  \n",
            "  inflating: ALL_IDB/ALL_IDB1/im/Im073_0.jpg  \n",
            "  inflating: ALL_IDB/ALL_IDB1/im/Im074_0.jpg  \n",
            "  inflating: ALL_IDB/ALL_IDB1/im/Im075_0.jpg  \n",
            "  inflating: ALL_IDB/ALL_IDB1/im/Im076_0.jpg  \n",
            "  inflating: ALL_IDB/ALL_IDB1/im/Im077_0.jpg  \n",
            "  inflating: ALL_IDB/ALL_IDB1/im/Im078_0.jpg  \n",
            "  inflating: ALL_IDB/ALL_IDB1/im/Im079_0.jpg  \n",
            "  inflating: ALL_IDB/ALL_IDB1/im/Im080_0.jpg  \n",
            "  inflating: ALL_IDB/ALL_IDB1/im/Im081_0.jpg  \n",
            "  inflating: ALL_IDB/ALL_IDB1/im/Im082_0.jpg  \n",
            "  inflating: ALL_IDB/ALL_IDB1/im/Im083_0.jpg  \n",
            "  inflating: ALL_IDB/ALL_IDB1/im/Im084_0.jpg  \n",
            "  inflating: ALL_IDB/ALL_IDB1/im/Im085_0.jpg  \n",
            "  inflating: ALL_IDB/ALL_IDB1/im/Im086_0.jpg  \n",
            "  inflating: ALL_IDB/ALL_IDB1/im/Im087_0.jpg  \n",
            "  inflating: ALL_IDB/ALL_IDB1/im/Im088_0.jpg  \n",
            "  inflating: ALL_IDB/ALL_IDB1/im/Im089_0.jpg  \n",
            "  inflating: ALL_IDB/ALL_IDB1/im/Im090_0.jpg  \n",
            "  inflating: ALL_IDB/ALL_IDB1/im/Im091_0.jpg  \n",
            "  inflating: ALL_IDB/ALL_IDB1/im/Im092_0.jpg  \n",
            "  inflating: ALL_IDB/ALL_IDB1/im/Im093_0.jpg  \n",
            "  inflating: ALL_IDB/ALL_IDB1/im/Im094_0.jpg  \n",
            "  inflating: ALL_IDB/ALL_IDB1/im/Im095_0.jpg  \n",
            "  inflating: ALL_IDB/ALL_IDB1/im/Im096_0.jpg  \n",
            "  inflating: ALL_IDB/ALL_IDB1/im/Im097_0.jpg  \n",
            "  inflating: ALL_IDB/ALL_IDB1/im/Im098_0.jpg  \n",
            "  inflating: ALL_IDB/ALL_IDB1/im/Im099_0.jpg  \n",
            "  inflating: ALL_IDB/ALL_IDB1/im/Im100_0.jpg  \n",
            "  inflating: ALL_IDB/ALL_IDB1/im/Im101_0.jpg  \n",
            "  inflating: ALL_IDB/ALL_IDB1/im/Im102_0.jpg  \n",
            "  inflating: ALL_IDB/ALL_IDB1/im/Im103_0.jpg  \n",
            "  inflating: ALL_IDB/ALL_IDB1/im/Im104_0.jpg  \n",
            "  inflating: ALL_IDB/ALL_IDB1/im/Im105_0.jpg  \n",
            "  inflating: ALL_IDB/ALL_IDB1/im/Im106_0.jpg  \n",
            "  inflating: ALL_IDB/ALL_IDB1/im/Im107_0.jpg  \n",
            "  inflating: ALL_IDB/ALL_IDB1/im/Im108_0.jpg  \n",
            "  inflating: ALL_IDB/ALL_IDB1/readme_ALL_IDB1.txt  \n",
            "   creating: ALL_IDB/ALL_IDB1/xyc/\n",
            "  inflating: ALL_IDB/ALL_IDB1/xyc/Im001_1.xyc  \n",
            "  inflating: ALL_IDB/ALL_IDB1/xyc/Im002_1.xyc  \n",
            "  inflating: ALL_IDB/ALL_IDB1/xyc/Im003_1.xyc  \n",
            "  inflating: ALL_IDB/ALL_IDB1/xyc/Im004_1.xyc  \n",
            "  inflating: ALL_IDB/ALL_IDB1/xyc/Im005_1.xyc  \n",
            "  inflating: ALL_IDB/ALL_IDB1/xyc/Im006_1.xyc  \n",
            "  inflating: ALL_IDB/ALL_IDB1/xyc/Im007_1.xyc  \n",
            "  inflating: ALL_IDB/ALL_IDB1/xyc/Im008_1.xyc  \n",
            "  inflating: ALL_IDB/ALL_IDB1/xyc/Im009_1.xyc  \n",
            "  inflating: ALL_IDB/ALL_IDB1/xyc/Im010_1.xyc  \n",
            "  inflating: ALL_IDB/ALL_IDB1/xyc/Im011_1.xyc  \n",
            "  inflating: ALL_IDB/ALL_IDB1/xyc/Im012_1.xyc  \n",
            "  inflating: ALL_IDB/ALL_IDB1/xyc/Im013_1.xyc  \n",
            "  inflating: ALL_IDB/ALL_IDB1/xyc/Im014_1.xyc  \n",
            "  inflating: ALL_IDB/ALL_IDB1/xyc/Im015_1.xyc  \n",
            "  inflating: ALL_IDB/ALL_IDB1/xyc/Im016_1.xyc  \n",
            "  inflating: ALL_IDB/ALL_IDB1/xyc/Im017_1.xyc  \n",
            "  inflating: ALL_IDB/ALL_IDB1/xyc/Im018_1.xyc  \n",
            "  inflating: ALL_IDB/ALL_IDB1/xyc/Im019_1.xyc  \n",
            "  inflating: ALL_IDB/ALL_IDB1/xyc/Im020_1.xyc  \n",
            "  inflating: ALL_IDB/ALL_IDB1/xyc/Im021_1.xyc  \n",
            "  inflating: ALL_IDB/ALL_IDB1/xyc/Im022_1.xyc  \n",
            "  inflating: ALL_IDB/ALL_IDB1/xyc/Im023_1.xyc  \n",
            "  inflating: ALL_IDB/ALL_IDB1/xyc/Im024_1.xyc  \n",
            "  inflating: ALL_IDB/ALL_IDB1/xyc/Im025_1.xyc  \n",
            "  inflating: ALL_IDB/ALL_IDB1/xyc/Im026_1.xyc  \n",
            "  inflating: ALL_IDB/ALL_IDB1/xyc/Im027_1.xyc  \n",
            "  inflating: ALL_IDB/ALL_IDB1/xyc/Im028_1.xyc  \n",
            "  inflating: ALL_IDB/ALL_IDB1/xyc/Im029_1.xyc  \n",
            "  inflating: ALL_IDB/ALL_IDB1/xyc/Im030_1.xyc  \n",
            "  inflating: ALL_IDB/ALL_IDB1/xyc/Im031_1.xyc  \n",
            "  inflating: ALL_IDB/ALL_IDB1/xyc/Im032_1.xyc  \n",
            "  inflating: ALL_IDB/ALL_IDB1/xyc/Im033_1.xyc  \n",
            "  inflating: ALL_IDB/ALL_IDB1/xyc/Im034_0.xyc  \n",
            "  inflating: ALL_IDB/ALL_IDB1/xyc/Im035_0.xyc  \n",
            "  inflating: ALL_IDB/ALL_IDB1/xyc/Im036_0.xyc  \n",
            "  inflating: ALL_IDB/ALL_IDB1/xyc/Im037_0.xyc  \n",
            "  inflating: ALL_IDB/ALL_IDB1/xyc/Im038_0.xyc  \n",
            "  inflating: ALL_IDB/ALL_IDB1/xyc/Im039_0.xyc  \n",
            "  inflating: ALL_IDB/ALL_IDB1/xyc/Im040_0.xyc  \n",
            "  inflating: ALL_IDB/ALL_IDB1/xyc/Im041_0.xyc  \n",
            "  inflating: ALL_IDB/ALL_IDB1/xyc/Im042_0.xyc  \n",
            "  inflating: ALL_IDB/ALL_IDB1/xyc/Im043_0.xyc  \n",
            "  inflating: ALL_IDB/ALL_IDB1/xyc/Im044_0.xyc  \n",
            "  inflating: ALL_IDB/ALL_IDB1/xyc/Im045_0.xyc  \n",
            "  inflating: ALL_IDB/ALL_IDB1/xyc/Im046_0.xyc  \n",
            "  inflating: ALL_IDB/ALL_IDB1/xyc/Im047_0.xyc  \n",
            "  inflating: ALL_IDB/ALL_IDB1/xyc/Im048_1.xyc  \n",
            "  inflating: ALL_IDB/ALL_IDB1/xyc/Im049_1.xyc  \n",
            "  inflating: ALL_IDB/ALL_IDB1/xyc/Im050_1.xyc  \n",
            "  inflating: ALL_IDB/ALL_IDB1/xyc/Im051_1.xyc  \n",
            "  inflating: ALL_IDB/ALL_IDB1/xyc/Im052_1.xyc  \n",
            "  inflating: ALL_IDB/ALL_IDB1/xyc/Im053_1.xyc  \n",
            "  inflating: ALL_IDB/ALL_IDB1/xyc/Im054_1.xyc  \n",
            "  inflating: ALL_IDB/ALL_IDB1/xyc/Im055_1.xyc  \n",
            "  inflating: ALL_IDB/ALL_IDB1/xyc/Im056_1.xyc  \n",
            "  inflating: ALL_IDB/ALL_IDB1/xyc/Im057_1.xyc  \n",
            "  inflating: ALL_IDB/ALL_IDB1/xyc/Im058_1.xyc  \n",
            "  inflating: ALL_IDB/ALL_IDB1/xyc/Im059_1.xyc  \n",
            "  inflating: ALL_IDB/ALL_IDB1/xyc/Im060_1.xyc  \n",
            "  inflating: ALL_IDB/ALL_IDB1/xyc/Im061_1.xyc  \n",
            "  inflating: ALL_IDB/ALL_IDB1/xyc/Im062_1.xyc  \n",
            "  inflating: ALL_IDB/ALL_IDB1/xyc/Im063_1.xyc  \n",
            "  inflating: ALL_IDB/ALL_IDB1/xyc/Im064_0.xyc  \n",
            "  inflating: ALL_IDB/ALL_IDB1/xyc/Im065_0.xyc  \n",
            "  inflating: ALL_IDB/ALL_IDB1/xyc/Im066_0.xyc  \n",
            "  inflating: ALL_IDB/ALL_IDB1/xyc/Im067_0.xyc  \n",
            "  inflating: ALL_IDB/ALL_IDB1/xyc/Im068_0.xyc  \n",
            "  inflating: ALL_IDB/ALL_IDB1/xyc/Im069_0.xyc  \n",
            "  inflating: ALL_IDB/ALL_IDB1/xyc/Im070_0.xyc  \n",
            "  inflating: ALL_IDB/ALL_IDB1/xyc/Im071_0.xyc  \n",
            "  inflating: ALL_IDB/ALL_IDB1/xyc/Im072_0.xyc  \n",
            "  inflating: ALL_IDB/ALL_IDB1/xyc/Im073_0.xyc  \n",
            "  inflating: ALL_IDB/ALL_IDB1/xyc/Im074_0.xyc  \n",
            "  inflating: ALL_IDB/ALL_IDB1/xyc/Im075_0.xyc  \n",
            "  inflating: ALL_IDB/ALL_IDB1/xyc/Im076_0.xyc  \n",
            "  inflating: ALL_IDB/ALL_IDB1/xyc/Im077_0.xyc  \n",
            "  inflating: ALL_IDB/ALL_IDB1/xyc/Im078_0.xyc  \n",
            "  inflating: ALL_IDB/ALL_IDB1/xyc/Im079_0.xyc  \n",
            "  inflating: ALL_IDB/ALL_IDB1/xyc/Im080_0.xyc  \n",
            "  inflating: ALL_IDB/ALL_IDB1/xyc/Im081_0.xyc  \n",
            "  inflating: ALL_IDB/ALL_IDB1/xyc/Im082_0.xyc  \n",
            "  inflating: ALL_IDB/ALL_IDB1/xyc/Im083_0.xyc  \n",
            "  inflating: ALL_IDB/ALL_IDB1/xyc/Im084_0.xyc  \n",
            "  inflating: ALL_IDB/ALL_IDB1/xyc/Im085_0.xyc  \n",
            "  inflating: ALL_IDB/ALL_IDB1/xyc/Im086_0.xyc  \n",
            "  inflating: ALL_IDB/ALL_IDB1/xyc/Im087_0.xyc  \n",
            "  inflating: ALL_IDB/ALL_IDB1/xyc/Im088_0.xyc  \n",
            "  inflating: ALL_IDB/ALL_IDB1/xyc/Im089_0.xyc  \n",
            "  inflating: ALL_IDB/ALL_IDB1/xyc/Im090_0.xyc  \n",
            "  inflating: ALL_IDB/ALL_IDB1/xyc/Im091_0.xyc  \n",
            "  inflating: ALL_IDB/ALL_IDB1/xyc/Im092_0.xyc  \n",
            "  inflating: ALL_IDB/ALL_IDB1/xyc/Im093_0.xyc  \n",
            "  inflating: ALL_IDB/ALL_IDB1/xyc/Im094_0.xyc  \n",
            "  inflating: ALL_IDB/ALL_IDB1/xyc/Im095_0.xyc  \n",
            "  inflating: ALL_IDB/ALL_IDB1/xyc/Im096_0.xyc  \n",
            "  inflating: ALL_IDB/ALL_IDB1/xyc/Im097_0.xyc  \n",
            "  inflating: ALL_IDB/ALL_IDB1/xyc/Im098_0.xyc  \n",
            "  inflating: ALL_IDB/ALL_IDB1/xyc/Im099_0.xyc  \n",
            "  inflating: ALL_IDB/ALL_IDB1/xyc/Im100_0.xyc  \n",
            "  inflating: ALL_IDB/ALL_IDB1/xyc/Im101_0.xyc  \n",
            "  inflating: ALL_IDB/ALL_IDB1/xyc/Im102_0.xyc  \n",
            "  inflating: ALL_IDB/ALL_IDB1/xyc/Im103_0.xyc  \n",
            "  inflating: ALL_IDB/ALL_IDB1/xyc/Im104_0.xyc  \n",
            "  inflating: ALL_IDB/ALL_IDB1/xyc/Im105_0.xyc  \n",
            "  inflating: ALL_IDB/ALL_IDB1/xyc/Im106_0.xyc  \n",
            "  inflating: ALL_IDB/ALL_IDB1/xyc/Im107_0.xyc  \n",
            " extracting: ALL_IDB/ALL_IDB1/xyc/Im108_0.xyc  \n",
            "   creating: ALL_IDB/ALL_IDB2/\n",
            "   creating: ALL_IDB/ALL_IDB2/img/\n",
            "  inflating: ALL_IDB/ALL_IDB2/img/Im001_1.tif  \n",
            "  inflating: ALL_IDB/ALL_IDB2/img/Im002_1.tif  \n",
            "  inflating: ALL_IDB/ALL_IDB2/img/Im003_1.tif  \n",
            "  inflating: ALL_IDB/ALL_IDB2/img/Im004_1.tif  \n",
            "  inflating: ALL_IDB/ALL_IDB2/img/Im005_1.tif  \n",
            "  inflating: ALL_IDB/ALL_IDB2/img/Im006_1.tif  \n",
            "  inflating: ALL_IDB/ALL_IDB2/img/Im007_1.tif  \n",
            "  inflating: ALL_IDB/ALL_IDB2/img/Im008_1.tif  \n",
            "  inflating: ALL_IDB/ALL_IDB2/img/Im009_1.tif  \n",
            "  inflating: ALL_IDB/ALL_IDB2/img/Im010_1.tif  \n",
            "  inflating: ALL_IDB/ALL_IDB2/img/Im011_1.tif  \n",
            "  inflating: ALL_IDB/ALL_IDB2/img/Im012_1.tif  \n",
            "  inflating: ALL_IDB/ALL_IDB2/img/Im013_1.tif  \n",
            "  inflating: ALL_IDB/ALL_IDB2/img/Im014_1.tif  \n",
            "  inflating: ALL_IDB/ALL_IDB2/img/Im015_1.tif  \n",
            "  inflating: ALL_IDB/ALL_IDB2/img/Im016_1.tif  \n",
            "  inflating: ALL_IDB/ALL_IDB2/img/Im017_1.tif  \n",
            "  inflating: ALL_IDB/ALL_IDB2/img/Im018_1.tif  \n",
            "  inflating: ALL_IDB/ALL_IDB2/img/Im019_1.tif  \n",
            "  inflating: ALL_IDB/ALL_IDB2/img/Im020_1.tif  \n",
            "  inflating: ALL_IDB/ALL_IDB2/img/Im021_1.tif  \n",
            "  inflating: ALL_IDB/ALL_IDB2/img/Im022_1.tif  \n",
            "  inflating: ALL_IDB/ALL_IDB2/img/Im023_1.tif  \n",
            "  inflating: ALL_IDB/ALL_IDB2/img/Im024_1.tif  \n",
            "  inflating: ALL_IDB/ALL_IDB2/img/Im025_1.tif  \n",
            "  inflating: ALL_IDB/ALL_IDB2/img/Im026_1.tif  \n",
            "  inflating: ALL_IDB/ALL_IDB2/img/Im027_1.tif  \n",
            "  inflating: ALL_IDB/ALL_IDB2/img/Im028_1.tif  \n",
            "  inflating: ALL_IDB/ALL_IDB2/img/Im029_1.tif  \n",
            "  inflating: ALL_IDB/ALL_IDB2/img/Im030_1.tif  \n",
            "  inflating: ALL_IDB/ALL_IDB2/img/Im031_1.tif  \n",
            "  inflating: ALL_IDB/ALL_IDB2/img/Im032_1.tif  \n",
            "  inflating: ALL_IDB/ALL_IDB2/img/Im033_1.tif  \n",
            "  inflating: ALL_IDB/ALL_IDB2/img/Im034_1.tif  \n",
            "  inflating: ALL_IDB/ALL_IDB2/img/Im035_1.tif  \n",
            "  inflating: ALL_IDB/ALL_IDB2/img/Im036_1.tif  \n",
            "  inflating: ALL_IDB/ALL_IDB2/img/Im037_1.tif  \n",
            "  inflating: ALL_IDB/ALL_IDB2/img/Im038_1.tif  \n",
            "  inflating: ALL_IDB/ALL_IDB2/img/Im039_1.tif  \n",
            "  inflating: ALL_IDB/ALL_IDB2/img/Im040_1.tif  \n",
            "  inflating: ALL_IDB/ALL_IDB2/img/Im041_1.tif  \n",
            "  inflating: ALL_IDB/ALL_IDB2/img/Im042_1.tif  \n",
            "  inflating: ALL_IDB/ALL_IDB2/img/Im043_1.tif  \n",
            "  inflating: ALL_IDB/ALL_IDB2/img/Im044_1.tif  \n",
            "  inflating: ALL_IDB/ALL_IDB2/img/Im045_1.tif  \n",
            "  inflating: ALL_IDB/ALL_IDB2/img/Im046_1.tif  \n",
            "  inflating: ALL_IDB/ALL_IDB2/img/Im047_1.tif  \n",
            "  inflating: ALL_IDB/ALL_IDB2/img/Im048_1.tif  \n",
            "  inflating: ALL_IDB/ALL_IDB2/img/Im049_1.tif  \n",
            "  inflating: ALL_IDB/ALL_IDB2/img/Im050_1.tif  \n",
            "  inflating: ALL_IDB/ALL_IDB2/img/Im051_1.tif  \n",
            "  inflating: ALL_IDB/ALL_IDB2/img/Im052_1.tif  \n",
            "  inflating: ALL_IDB/ALL_IDB2/img/Im053_1.tif  \n",
            "  inflating: ALL_IDB/ALL_IDB2/img/Im054_1.tif  \n",
            "  inflating: ALL_IDB/ALL_IDB2/img/Im055_1.tif  \n",
            "  inflating: ALL_IDB/ALL_IDB2/img/Im056_1.tif  \n",
            "  inflating: ALL_IDB/ALL_IDB2/img/Im057_1.tif  \n",
            "  inflating: ALL_IDB/ALL_IDB2/img/Im058_1.tif  \n",
            "  inflating: ALL_IDB/ALL_IDB2/img/Im059_1.tif  \n",
            "  inflating: ALL_IDB/ALL_IDB2/img/Im060_1.tif  \n",
            "  inflating: ALL_IDB/ALL_IDB2/img/Im061_1.tif  \n",
            "  inflating: ALL_IDB/ALL_IDB2/img/Im062_1.tif  \n",
            "  inflating: ALL_IDB/ALL_IDB2/img/Im063_1.tif  \n",
            "  inflating: ALL_IDB/ALL_IDB2/img/Im064_1.tif  \n",
            "  inflating: ALL_IDB/ALL_IDB2/img/Im065_1.tif  \n",
            "  inflating: ALL_IDB/ALL_IDB2/img/Im066_1.tif  \n",
            "  inflating: ALL_IDB/ALL_IDB2/img/Im067_1.tif  \n",
            "  inflating: ALL_IDB/ALL_IDB2/img/Im068_1.tif  \n",
            "  inflating: ALL_IDB/ALL_IDB2/img/Im069_1.tif  \n",
            "  inflating: ALL_IDB/ALL_IDB2/img/Im070_1.tif  \n",
            "  inflating: ALL_IDB/ALL_IDB2/img/Im071_1.tif  \n",
            "  inflating: ALL_IDB/ALL_IDB2/img/Im072_1.tif  \n",
            "  inflating: ALL_IDB/ALL_IDB2/img/Im073_1.tif  \n",
            "  inflating: ALL_IDB/ALL_IDB2/img/Im074_1.tif  \n",
            "  inflating: ALL_IDB/ALL_IDB2/img/Im075_1.tif  \n",
            "  inflating: ALL_IDB/ALL_IDB2/img/Im076_1.tif  \n",
            "  inflating: ALL_IDB/ALL_IDB2/img/Im077_1.tif  \n",
            "  inflating: ALL_IDB/ALL_IDB2/img/Im078_1.tif  \n",
            "  inflating: ALL_IDB/ALL_IDB2/img/Im079_1.tif  \n",
            "  inflating: ALL_IDB/ALL_IDB2/img/Im080_1.tif  \n",
            "  inflating: ALL_IDB/ALL_IDB2/img/Im081_1.tif  \n",
            "  inflating: ALL_IDB/ALL_IDB2/img/Im082_1.tif  \n",
            "  inflating: ALL_IDB/ALL_IDB2/img/Im083_1.tif  \n",
            "  inflating: ALL_IDB/ALL_IDB2/img/Im084_1.tif  \n",
            "  inflating: ALL_IDB/ALL_IDB2/img/Im085_1.tif  \n",
            "  inflating: ALL_IDB/ALL_IDB2/img/Im086_1.tif  \n",
            "  inflating: ALL_IDB/ALL_IDB2/img/Im087_1.tif  \n",
            "  inflating: ALL_IDB/ALL_IDB2/img/Im088_1.tif  \n",
            "  inflating: ALL_IDB/ALL_IDB2/img/Im089_1.tif  \n",
            "  inflating: ALL_IDB/ALL_IDB2/img/Im090_1.tif  \n",
            "  inflating: ALL_IDB/ALL_IDB2/img/Im091_1.tif  \n",
            "  inflating: ALL_IDB/ALL_IDB2/img/Im092_1.tif  \n",
            "  inflating: ALL_IDB/ALL_IDB2/img/Im093_1.tif  \n",
            "  inflating: ALL_IDB/ALL_IDB2/img/Im094_1.tif  \n",
            "  inflating: ALL_IDB/ALL_IDB2/img/Im095_1.tif  \n",
            "  inflating: ALL_IDB/ALL_IDB2/img/Im096_1.tif  \n",
            "  inflating: ALL_IDB/ALL_IDB2/img/Im097_1.tif  \n",
            "  inflating: ALL_IDB/ALL_IDB2/img/Im098_1.tif  \n",
            "  inflating: ALL_IDB/ALL_IDB2/img/Im099_1.tif  \n",
            "  inflating: ALL_IDB/ALL_IDB2/img/Im100_1.tif  \n",
            "  inflating: ALL_IDB/ALL_IDB2/img/Im101_1.tif  \n",
            "  inflating: ALL_IDB/ALL_IDB2/img/Im102_1.tif  \n",
            "  inflating: ALL_IDB/ALL_IDB2/img/Im103_1.tif  \n",
            "  inflating: ALL_IDB/ALL_IDB2/img/Im104_1.tif  \n",
            "  inflating: ALL_IDB/ALL_IDB2/img/Im105_1.tif  \n",
            "  inflating: ALL_IDB/ALL_IDB2/img/Im106_1.tif  \n",
            "  inflating: ALL_IDB/ALL_IDB2/img/Im107_1.tif  \n",
            "  inflating: ALL_IDB/ALL_IDB2/img/Im108_1.tif  \n",
            "  inflating: ALL_IDB/ALL_IDB2/img/Im109_1.tif  \n",
            "  inflating: ALL_IDB/ALL_IDB2/img/Im110_1.tif  \n",
            "  inflating: ALL_IDB/ALL_IDB2/img/Im111_1.tif  \n",
            "  inflating: ALL_IDB/ALL_IDB2/img/Im112_1.tif  \n",
            "  inflating: ALL_IDB/ALL_IDB2/img/Im113_1.tif  \n",
            "  inflating: ALL_IDB/ALL_IDB2/img/Im114_1.tif  \n",
            "  inflating: ALL_IDB/ALL_IDB2/img/Im115_1.tif  \n",
            "  inflating: ALL_IDB/ALL_IDB2/img/Im116_1.tif  \n",
            "  inflating: ALL_IDB/ALL_IDB2/img/Im117_1.tif  \n",
            "  inflating: ALL_IDB/ALL_IDB2/img/Im118_1.tif  \n",
            "  inflating: ALL_IDB/ALL_IDB2/img/Im119_1.tif  \n",
            "  inflating: ALL_IDB/ALL_IDB2/img/Im120_1.tif  \n",
            "  inflating: ALL_IDB/ALL_IDB2/img/Im121_1.tif  \n",
            "  inflating: ALL_IDB/ALL_IDB2/img/Im122_1.tif  \n",
            "  inflating: ALL_IDB/ALL_IDB2/img/Im123_1.tif  \n",
            "  inflating: ALL_IDB/ALL_IDB2/img/Im124_1.tif  \n",
            "  inflating: ALL_IDB/ALL_IDB2/img/Im125_1.tif  \n",
            "  inflating: ALL_IDB/ALL_IDB2/img/Im126_1.tif  \n",
            "  inflating: ALL_IDB/ALL_IDB2/img/Im127_1.tif  \n",
            "  inflating: ALL_IDB/ALL_IDB2/img/Im128_1.tif  \n",
            "  inflating: ALL_IDB/ALL_IDB2/img/Im129_1.tif  \n",
            "  inflating: ALL_IDB/ALL_IDB2/img/Im130_1.tif  \n",
            "  inflating: ALL_IDB/ALL_IDB2/img/Im131_0.tif  \n",
            "  inflating: ALL_IDB/ALL_IDB2/img/Im132_0.tif  \n",
            "  inflating: ALL_IDB/ALL_IDB2/img/Im133_0.tif  \n",
            "  inflating: ALL_IDB/ALL_IDB2/img/Im134_0.tif  \n",
            "  inflating: ALL_IDB/ALL_IDB2/img/Im135_0.tif  \n",
            "  inflating: ALL_IDB/ALL_IDB2/img/Im136_0.tif  \n",
            "  inflating: ALL_IDB/ALL_IDB2/img/Im137_0.tif  \n",
            "  inflating: ALL_IDB/ALL_IDB2/img/Im138_0.tif  \n",
            "  inflating: ALL_IDB/ALL_IDB2/img/Im139_0.tif  \n",
            "  inflating: ALL_IDB/ALL_IDB2/img/Im140_0.tif  \n",
            "  inflating: ALL_IDB/ALL_IDB2/img/Im141_0.tif  \n",
            "  inflating: ALL_IDB/ALL_IDB2/img/Im142_0.tif  \n",
            "  inflating: ALL_IDB/ALL_IDB2/img/Im143_0.tif  \n",
            "  inflating: ALL_IDB/ALL_IDB2/img/Im144_0.tif  \n",
            "  inflating: ALL_IDB/ALL_IDB2/img/Im145_0.tif  \n",
            "  inflating: ALL_IDB/ALL_IDB2/img/Im146_0.tif  \n",
            "  inflating: ALL_IDB/ALL_IDB2/img/Im147_0.tif  \n",
            "  inflating: ALL_IDB/ALL_IDB2/img/Im148_0.tif  \n",
            "  inflating: ALL_IDB/ALL_IDB2/img/Im149_0.tif  \n",
            "  inflating: ALL_IDB/ALL_IDB2/img/Im150_0.tif  \n",
            "  inflating: ALL_IDB/ALL_IDB2/img/Im151_0.tif  \n",
            "  inflating: ALL_IDB/ALL_IDB2/img/Im152_0.tif  \n",
            "  inflating: ALL_IDB/ALL_IDB2/img/Im153_0.tif  \n",
            "  inflating: ALL_IDB/ALL_IDB2/img/Im154_0.tif  \n",
            "  inflating: ALL_IDB/ALL_IDB2/img/Im155_0.tif  \n",
            "  inflating: ALL_IDB/ALL_IDB2/img/Im156_0.tif  \n",
            "  inflating: ALL_IDB/ALL_IDB2/img/Im157_0.tif  \n",
            "  inflating: ALL_IDB/ALL_IDB2/img/Im158_0.tif  \n",
            "  inflating: ALL_IDB/ALL_IDB2/img/Im159_0.tif  \n",
            "  inflating: ALL_IDB/ALL_IDB2/img/Im160_0.tif  \n",
            "  inflating: ALL_IDB/ALL_IDB2/img/Im161_0.tif  \n",
            "  inflating: ALL_IDB/ALL_IDB2/img/Im162_0.tif  \n",
            "  inflating: ALL_IDB/ALL_IDB2/img/Im163_0.tif  \n",
            "  inflating: ALL_IDB/ALL_IDB2/img/Im164_0.tif  \n",
            "  inflating: ALL_IDB/ALL_IDB2/img/Im165_0.tif  \n",
            "  inflating: ALL_IDB/ALL_IDB2/img/Im166_0.tif  \n",
            "  inflating: ALL_IDB/ALL_IDB2/img/Im167_0.tif  \n",
            "  inflating: ALL_IDB/ALL_IDB2/img/Im168_0.tif  \n",
            "  inflating: ALL_IDB/ALL_IDB2/img/Im169_0.tif  \n",
            "  inflating: ALL_IDB/ALL_IDB2/img/Im170_0.tif  \n",
            "  inflating: ALL_IDB/ALL_IDB2/img/Im171_0.tif  \n",
            "  inflating: ALL_IDB/ALL_IDB2/img/Im172_0.tif  \n",
            "  inflating: ALL_IDB/ALL_IDB2/img/Im173_0.tif  \n",
            "  inflating: ALL_IDB/ALL_IDB2/img/Im174_0.tif  \n",
            "  inflating: ALL_IDB/ALL_IDB2/img/Im175_0.tif  \n",
            "  inflating: ALL_IDB/ALL_IDB2/img/Im176_0.tif  \n",
            "  inflating: ALL_IDB/ALL_IDB2/img/Im177_0.tif  \n",
            "  inflating: ALL_IDB/ALL_IDB2/img/Im178_0.tif  \n",
            "  inflating: ALL_IDB/ALL_IDB2/img/Im179_0.tif  \n",
            "  inflating: ALL_IDB/ALL_IDB2/img/Im180_0.tif  \n",
            "  inflating: ALL_IDB/ALL_IDB2/img/Im181_0.tif  \n",
            "  inflating: ALL_IDB/ALL_IDB2/img/Im182_0.tif  \n",
            "  inflating: ALL_IDB/ALL_IDB2/img/Im183_0.tif  \n",
            "  inflating: ALL_IDB/ALL_IDB2/img/Im184_0.tif  \n",
            "  inflating: ALL_IDB/ALL_IDB2/img/Im185_0.tif  \n",
            "  inflating: ALL_IDB/ALL_IDB2/img/Im186_0.tif  \n",
            "  inflating: ALL_IDB/ALL_IDB2/img/Im187_0.tif  \n",
            "  inflating: ALL_IDB/ALL_IDB2/img/Im188_0.tif  \n",
            "  inflating: ALL_IDB/ALL_IDB2/img/Im189_0.tif  \n",
            "  inflating: ALL_IDB/ALL_IDB2/img/Im190_0.tif  \n",
            "  inflating: ALL_IDB/ALL_IDB2/img/Im191_0.tif  \n",
            "  inflating: ALL_IDB/ALL_IDB2/img/Im192_0.tif  \n",
            "  inflating: ALL_IDB/ALL_IDB2/img/Im193_0.tif  \n",
            "  inflating: ALL_IDB/ALL_IDB2/img/Im194_0.tif  \n",
            "  inflating: ALL_IDB/ALL_IDB2/img/Im195_0.tif  \n",
            "  inflating: ALL_IDB/ALL_IDB2/img/Im196_0.tif  \n",
            "  inflating: ALL_IDB/ALL_IDB2/img/Im197_0.tif  \n",
            "  inflating: ALL_IDB/ALL_IDB2/img/Im198_0.tif  \n",
            "  inflating: ALL_IDB/ALL_IDB2/img/Im199_0.tif  \n",
            "  inflating: ALL_IDB/ALL_IDB2/img/Im200_0.tif  \n",
            "  inflating: ALL_IDB/ALL_IDB2/img/Im201_0.tif  \n",
            "  inflating: ALL_IDB/ALL_IDB2/img/Im202_0.tif  \n",
            "  inflating: ALL_IDB/ALL_IDB2/img/Im203_0.tif  \n",
            "  inflating: ALL_IDB/ALL_IDB2/img/Im204_0.tif  \n",
            "  inflating: ALL_IDB/ALL_IDB2/img/Im205_0.tif  \n",
            "  inflating: ALL_IDB/ALL_IDB2/img/Im206_0.tif  \n",
            "  inflating: ALL_IDB/ALL_IDB2/img/Im207_0.tif  \n",
            "  inflating: ALL_IDB/ALL_IDB2/img/Im208_0.tif  \n",
            "  inflating: ALL_IDB/ALL_IDB2/img/Im209_0.tif  \n",
            "  inflating: ALL_IDB/ALL_IDB2/img/Im210_0.tif  \n",
            "  inflating: ALL_IDB/ALL_IDB2/img/Im211_0.tif  \n",
            "  inflating: ALL_IDB/ALL_IDB2/img/Im212_0.tif  \n",
            "  inflating: ALL_IDB/ALL_IDB2/img/Im213_0.tif  \n",
            "  inflating: ALL_IDB/ALL_IDB2/img/Im214_0.tif  \n",
            "  inflating: ALL_IDB/ALL_IDB2/img/Im215_0.tif  \n",
            "  inflating: ALL_IDB/ALL_IDB2/img/Im216_0.tif  \n",
            "  inflating: ALL_IDB/ALL_IDB2/img/Im217_0.tif  \n",
            "  inflating: ALL_IDB/ALL_IDB2/img/Im218_0.tif  \n",
            "  inflating: ALL_IDB/ALL_IDB2/img/Im219_0.tif  \n",
            "  inflating: ALL_IDB/ALL_IDB2/img/Im220_0.tif  \n",
            "  inflating: ALL_IDB/ALL_IDB2/img/Im221_0.tif  \n",
            "  inflating: ALL_IDB/ALL_IDB2/img/Im222_0.tif  \n",
            "  inflating: ALL_IDB/ALL_IDB2/img/Im223_0.tif  \n",
            "  inflating: ALL_IDB/ALL_IDB2/img/Im224_0.tif  \n",
            "  inflating: ALL_IDB/ALL_IDB2/img/Im225_0.tif  \n",
            "  inflating: ALL_IDB/ALL_IDB2/img/Im226_0.tif  \n",
            "  inflating: ALL_IDB/ALL_IDB2/img/Im227_0.tif  \n",
            "  inflating: ALL_IDB/ALL_IDB2/img/Im228_0.tif  \n",
            "  inflating: ALL_IDB/ALL_IDB2/img/Im229_0.tif  \n",
            "  inflating: ALL_IDB/ALL_IDB2/img/Im230_0.tif  \n",
            "  inflating: ALL_IDB/ALL_IDB2/img/Im231_0.tif  \n",
            "  inflating: ALL_IDB/ALL_IDB2/img/Im232_0.tif  \n",
            "  inflating: ALL_IDB/ALL_IDB2/img/Im233_0.tif  \n",
            "  inflating: ALL_IDB/ALL_IDB2/img/Im234_0.tif  \n",
            "  inflating: ALL_IDB/ALL_IDB2/img/Im235_0.tif  \n",
            "  inflating: ALL_IDB/ALL_IDB2/img/Im236_0.tif  \n",
            "  inflating: ALL_IDB/ALL_IDB2/img/Im237_0.tif  \n",
            "  inflating: ALL_IDB/ALL_IDB2/img/Im238_0.tif  \n",
            "  inflating: ALL_IDB/ALL_IDB2/img/Im239_0.tif  \n",
            "  inflating: ALL_IDB/ALL_IDB2/img/Im240_0.tif  \n",
            "  inflating: ALL_IDB/ALL_IDB2/img/Im241_0.tif  \n",
            "  inflating: ALL_IDB/ALL_IDB2/img/Im242_0.tif  \n",
            "  inflating: ALL_IDB/ALL_IDB2/img/Im243_0.tif  \n",
            "  inflating: ALL_IDB/ALL_IDB2/img/Im244_0.tif  \n",
            "  inflating: ALL_IDB/ALL_IDB2/img/Im245_0.tif  \n",
            "  inflating: ALL_IDB/ALL_IDB2/img/Im246_0.tif  \n",
            "  inflating: ALL_IDB/ALL_IDB2/img/Im247_0.tif  \n",
            "  inflating: ALL_IDB/ALL_IDB2/img/Im248_0.tif  \n",
            "  inflating: ALL_IDB/ALL_IDB2/img/Im249_0.tif  \n",
            "  inflating: ALL_IDB/ALL_IDB2/img/Im250_0.tif  \n",
            "  inflating: ALL_IDB/ALL_IDB2/img/Im251_0.tif  \n",
            "  inflating: ALL_IDB/ALL_IDB2/img/Im252_0.tif  \n",
            "  inflating: ALL_IDB/ALL_IDB2/img/Im253_0.tif  \n",
            "  inflating: ALL_IDB/ALL_IDB2/img/Im254_0.tif  \n",
            "  inflating: ALL_IDB/ALL_IDB2/img/Im255_0.tif  \n",
            "  inflating: ALL_IDB/ALL_IDB2/img/Im256_0.tif  \n",
            "  inflating: ALL_IDB/ALL_IDB2/img/Im257_0.tif  \n",
            "  inflating: ALL_IDB/ALL_IDB2/img/Im258_0.tif  \n",
            "  inflating: ALL_IDB/ALL_IDB2/img/Im259_0.tif  \n",
            "  inflating: ALL_IDB/ALL_IDB2/img/Im260_0.tif  \n",
            "  inflating: ALL_IDB/ALL_IDB2/readme_ALL_IDB2.txt  \n",
            "  inflating: ALL_IDB/guide.txt       \n"
          ]
        }
      ]
    },
    {
      "cell_type": "code",
      "metadata": {
        "id": "FG_iVpxwEAId"
      },
      "source": [
        "#make dataset folder and copy images to dataset folder\n",
        "#split healthy(normal) from abnormal(blast) images:\n",
        "#*_0.tif ==> normal image\n",
        "#*_1.tif ==> blast image\n",
        "!mkdir ./dataset\n",
        "!mkdir ./dataset/normal\n",
        "!cp ./ALL_IDB/ALL_IDB2/img/*_0.tif ./dataset/normal\n",
        "!mkdir ./dataset/blast\n",
        "!cp ./ALL_IDB/ALL_IDB2/img/*_1.tif ./dataset/blast"
      ],
      "execution_count": 6,
      "outputs": []
    },
    {
      "cell_type": "code",
      "metadata": {
        "colab": {
          "base_uri": "https://localhost:8080/"
        },
        "id": "IHptreQFE3uy",
        "outputId": "d44a5db6-7d6b-4c4c-e792-7d164b29392b"
      },
      "source": [
        "# counting normal and blast images\n",
        "for label in ('normal', 'blast'):\n",
        "  print(f\"Number of images in {label} is: \", len(glob.glob(f\"dataset/{label}/*.tif\")))"
      ],
      "execution_count": 7,
      "outputs": [
        {
          "output_type": "stream",
          "name": "stdout",
          "text": [
            "Number of images in normal is:  130\n",
            "Number of images in blast is:  130\n"
          ]
        }
      ]
    },
    {
      "cell_type": "code",
      "metadata": {
        "colab": {
          "base_uri": "https://localhost:8080/"
        },
        "id": "Eu-hwZxzOfFW",
        "outputId": "e4526811-664d-4972-91dd-b50adc6f1d32"
      },
      "source": [
        "# split train, test and validation set \n",
        "!pip install split-folders\n",
        "import splitfolders\n",
        "# 80% train =  80% pure train + 20% validation\n",
        "# 20% test\n",
        "\n",
        "# select train, test and validation images and move to MY_ALL_IDB dataset\n",
        "splitfolders.ratio(\"dataset\", output=\"My_ALL_IDB\", seed=1234, ratio=(.64, .16, .2), group_prefix=None)\n",
        "# 20% for test 80% for train and validation\n",
        "#The number of images in each folder can be varied using the values in the ratio argument(train:val:test).\n",
        "\n",
        "\n",
        "from keras.preprocessing.image import ImageDataGenerator\n",
        "datagen = ImageDataGenerator()\n",
        "\n",
        "# trainig batch size and the number of training set\n",
        "bs_train = 4\n",
        "it_train = datagen.flow_from_directory(\n",
        "    'My_ALL_IDB/train', \n",
        "    class_mode='categorical', \n",
        "    batch_size=bs_train,\n",
        "    shuffle=False\n",
        ")\n",
        "\n",
        "# test batch size and the number of test set\n",
        "bs_test = 4\n",
        "it_test = datagen.flow_from_directory(\n",
        "    'My_ALL_IDB/test', \n",
        "    class_mode='categorical',\n",
        "    batch_size=bs_test,\n",
        "    shuffle=False\n",
        ")\n",
        "# validation batch size and the number of validation set\n",
        "bs_val = 4\n",
        "it_val = datagen.flow_from_directory(\n",
        "    'My_ALL_IDB/val', \n",
        "    class_mode='categorical', \n",
        "    batch_size=bs_val,\n",
        "    shuffle=False\n",
        ")\n"
      ],
      "execution_count": 8,
      "outputs": [
        {
          "output_type": "stream",
          "name": "stdout",
          "text": [
            "Collecting split-folders\n",
            "  Downloading split_folders-0.4.3-py3-none-any.whl (7.4 kB)\n",
            "Installing collected packages: split-folders\n",
            "Successfully installed split-folders-0.4.3\n"
          ]
        },
        {
          "output_type": "stream",
          "name": "stderr",
          "text": [
            "Copying files: 260 files [00:00, 2178.73 files/s]\n"
          ]
        },
        {
          "output_type": "stream",
          "name": "stdout",
          "text": [
            "Found 166 images belonging to 2 classes.\n",
            "Found 54 images belonging to 2 classes.\n",
            "Found 40 images belonging to 2 classes.\n"
          ]
        }
      ]
    },
    {
      "cell_type": "code",
      "metadata": {
        "id": "_UOQSjGrVm4e",
        "colab": {
          "base_uri": "https://localhost:8080/"
        },
        "outputId": "71d0ab11-7e70-4e36-d0a6-adc85dca5c98"
      },
      "source": [
        "# create CNN model and plot it\n",
        "from keras.models import Sequential\n",
        "from keras.layers import Dense, Conv2D, Flatten, MaxPooling2D, Dropout\n",
        "model = Sequential([\n",
        "  Conv2D(filters=128, kernel_size=2, input_shape=(256,256,3), strides=1, activation=\"relu\", padding=\"same\"),\n",
        "  MaxPooling2D(pool_size=(2, 2), strides=2, padding=\"valid\"),\n",
        "\n",
        "  Conv2D(filters=64, kernel_size=2, input_shape=(128,128,3), strides=1, activation=\"relu\", padding=\"same\"),\n",
        "  MaxPooling2D(pool_size=(2, 2), strides=2, padding=\"valid\"),\n",
        "\n",
        "  Conv2D(filters=32, kernel_size=2, input_shape=(64,64,3), strides=1, activation=\"relu\", padding=\"same\"),\n",
        "  MaxPooling2D(pool_size=(2, 2), strides=2, padding=\"valid\"),\n",
        "\n",
        "  Conv2D(filters=16, kernel_size=2, input_shape=(32,32,3), strides=1, activation=\"relu\", padding=\"same\"),\n",
        "  MaxPooling2D(pool_size=(2, 2), strides=2, padding=\"valid\"),\n",
        "\n",
        "  Dense(50, activation=\"relu\"),\n",
        "\n",
        "  Flatten(),\n",
        "\n",
        "  Dense(2, activation=\"softmax\"),\n",
        "])\n",
        "\n",
        "loss = keras.losses.BinaryCrossentropy(from_logits=False)\n",
        "opt = keras.optimizers.Adam(learning_rate=1e-4)\n",
        "\n",
        "model.compile(\n",
        "    optimizer = opt,\n",
        "    loss = loss,\n",
        "    metrics = ['accuracy'],\n",
        ")\n",
        "model.summary()"
      ],
      "execution_count": 10,
      "outputs": [
        {
          "output_type": "stream",
          "name": "stdout",
          "text": [
            "Model: \"sequential_1\"\n",
            "_________________________________________________________________\n",
            " Layer (type)                Output Shape              Param #   \n",
            "=================================================================\n",
            " conv2d_4 (Conv2D)           (None, 256, 256, 128)     1664      \n",
            "                                                                 \n",
            " max_pooling2d_4 (MaxPooling  (None, 128, 128, 128)    0         \n",
            " 2D)                                                             \n",
            "                                                                 \n",
            " conv2d_5 (Conv2D)           (None, 128, 128, 64)      32832     \n",
            "                                                                 \n",
            " max_pooling2d_5 (MaxPooling  (None, 64, 64, 64)       0         \n",
            " 2D)                                                             \n",
            "                                                                 \n",
            " conv2d_6 (Conv2D)           (None, 64, 64, 32)        8224      \n",
            "                                                                 \n",
            " max_pooling2d_6 (MaxPooling  (None, 32, 32, 32)       0         \n",
            " 2D)                                                             \n",
            "                                                                 \n",
            " conv2d_7 (Conv2D)           (None, 32, 32, 16)        2064      \n",
            "                                                                 \n",
            " max_pooling2d_7 (MaxPooling  (None, 16, 16, 16)       0         \n",
            " 2D)                                                             \n",
            "                                                                 \n",
            " dense_2 (Dense)             (None, 16, 16, 50)        850       \n",
            "                                                                 \n",
            " flatten_1 (Flatten)         (None, 12800)             0         \n",
            "                                                                 \n",
            " dense_3 (Dense)             (None, 2)                 25602     \n",
            "                                                                 \n",
            "=================================================================\n",
            "Total params: 71,236\n",
            "Trainable params: 71,236\n",
            "Non-trainable params: 0\n",
            "_________________________________________________________________\n"
          ]
        }
      ]
    },
    {
      "cell_type": "code",
      "metadata": {
        "id": "VVhQePpQguCW"
      },
      "source": [
        "# Create a callback that saves the model's weights\n",
        "checkpoint_path = \"checkpoints/model.ckpt\"\n",
        "cp = keras.callbacks.ModelCheckpoint(\n",
        "    filepath = checkpoint_path,\n",
        "    save_best_only = True, \n",
        "    save_weights_only = True, \n",
        "    verbose = 1\n",
        ")\n",
        "\n",
        "\n",
        "es = keras.callbacks.EarlyStopping(\n",
        "    monitor = 'val_loss', \n",
        "    mode = 'min', \n",
        "    verbose = 1, \n",
        "    patience = 20\n",
        ")"
      ],
      "execution_count": 11,
      "outputs": []
    },
    {
      "cell_type": "code",
      "metadata": {
        "colab": {
          "base_uri": "https://localhost:8080/"
        },
        "id": "I0b9kLxfWT8e",
        "outputId": "22c447d2-9dab-4b8f-c806-d9b0e5ebe1f0"
      },
      "source": [
        "# fit the model on dataset\n",
        "history = model.fit(\n",
        "    it_train, \n",
        "    steps_per_epoch=it_train.n // bs_train,\n",
        "    validation_data=it_val,\n",
        "    validation_steps=it_val.n // bs_val,\n",
        "    epochs=25\n",
        ")"
      ],
      "execution_count": 12,
      "outputs": [
        {
          "output_type": "stream",
          "name": "stdout",
          "text": [
            "Epoch 1/25\n",
            "41/41 [==============================] - 12s 57ms/step - loss: 1.7573 - accuracy: 0.4568 - val_loss: 0.7202 - val_accuracy: 0.5250\n",
            "Epoch 2/25\n",
            "41/41 [==============================] - 2s 45ms/step - loss: 0.6999 - accuracy: 0.5988 - val_loss: 1.0425 - val_accuracy: 0.5000\n",
            "Epoch 3/25\n",
            "41/41 [==============================] - 2s 46ms/step - loss: 0.7054 - accuracy: 0.6790 - val_loss: 1.5351 - val_accuracy: 0.5000\n",
            "Epoch 4/25\n",
            "41/41 [==============================] - 2s 45ms/step - loss: 0.9216 - accuracy: 0.5247 - val_loss: 0.5348 - val_accuracy: 0.7500\n",
            "Epoch 5/25\n",
            "41/41 [==============================] - 2s 53ms/step - loss: 0.5374 - accuracy: 0.7716 - val_loss: 0.4888 - val_accuracy: 0.7250\n",
            "Epoch 6/25\n",
            "41/41 [==============================] - 2s 44ms/step - loss: 0.4382 - accuracy: 0.7840 - val_loss: 0.5675 - val_accuracy: 0.7500\n",
            "Epoch 7/25\n",
            "41/41 [==============================] - 2s 45ms/step - loss: 0.7364 - accuracy: 0.6543 - val_loss: 0.4915 - val_accuracy: 0.6750\n",
            "Epoch 8/25\n",
            "41/41 [==============================] - 2s 45ms/step - loss: 0.5179 - accuracy: 0.7469 - val_loss: 0.5177 - val_accuracy: 0.7250\n",
            "Epoch 9/25\n",
            "41/41 [==============================] - 2s 44ms/step - loss: 0.4927 - accuracy: 0.7284 - val_loss: 0.4532 - val_accuracy: 0.7250\n",
            "Epoch 10/25\n",
            "41/41 [==============================] - 2s 45ms/step - loss: 0.5314 - accuracy: 0.6975 - val_loss: 0.3833 - val_accuracy: 0.8500\n",
            "Epoch 11/25\n",
            "41/41 [==============================] - 2s 45ms/step - loss: 0.3683 - accuracy: 0.8580 - val_loss: 0.3524 - val_accuracy: 0.8750\n",
            "Epoch 12/25\n",
            "41/41 [==============================] - 2s 44ms/step - loss: 0.3055 - accuracy: 0.9198 - val_loss: 0.3067 - val_accuracy: 0.9000\n",
            "Epoch 13/25\n",
            "41/41 [==============================] - 2s 46ms/step - loss: 0.3427 - accuracy: 0.8025 - val_loss: 0.3362 - val_accuracy: 0.8250\n",
            "Epoch 14/25\n",
            "41/41 [==============================] - 2s 45ms/step - loss: 0.2880 - accuracy: 0.8889 - val_loss: 0.3494 - val_accuracy: 0.8250\n",
            "Epoch 15/25\n",
            "41/41 [==============================] - 2s 45ms/step - loss: 0.3502 - accuracy: 0.8272 - val_loss: 0.3629 - val_accuracy: 0.8000\n",
            "Epoch 16/25\n",
            "41/41 [==============================] - 2s 45ms/step - loss: 0.2690 - accuracy: 0.8780 - val_loss: 0.2795 - val_accuracy: 0.8500\n",
            "Epoch 17/25\n",
            "41/41 [==============================] - 2s 45ms/step - loss: 0.2004 - accuracy: 0.9259 - val_loss: 0.2522 - val_accuracy: 0.9500\n",
            "Epoch 18/25\n",
            "41/41 [==============================] - 2s 45ms/step - loss: 0.1901 - accuracy: 0.9321 - val_loss: 0.2302 - val_accuracy: 0.8750\n",
            "Epoch 19/25\n",
            "41/41 [==============================] - 2s 45ms/step - loss: 0.1907 - accuracy: 0.9444 - val_loss: 0.2577 - val_accuracy: 0.9500\n",
            "Epoch 20/25\n",
            "41/41 [==============================] - 2s 45ms/step - loss: 0.1664 - accuracy: 0.9630 - val_loss: 0.1725 - val_accuracy: 0.9250\n",
            "Epoch 21/25\n",
            "41/41 [==============================] - 2s 45ms/step - loss: 0.1307 - accuracy: 0.9383 - val_loss: 0.1560 - val_accuracy: 0.9750\n",
            "Epoch 22/25\n",
            "41/41 [==============================] - 2s 44ms/step - loss: 0.1460 - accuracy: 0.9630 - val_loss: 0.1444 - val_accuracy: 0.9750\n",
            "Epoch 23/25\n",
            "41/41 [==============================] - 2s 44ms/step - loss: 0.1029 - accuracy: 0.9815 - val_loss: 0.1831 - val_accuracy: 0.8750\n",
            "Epoch 24/25\n",
            "41/41 [==============================] - 2s 45ms/step - loss: 0.1130 - accuracy: 0.9691 - val_loss: 0.1326 - val_accuracy: 0.9750\n",
            "Epoch 25/25\n",
            "41/41 [==============================] - 2s 45ms/step - loss: 0.0892 - accuracy: 0.9691 - val_loss: 0.1335 - val_accuracy: 0.9750\n"
          ]
        }
      ]
    },
    {
      "cell_type": "code",
      "metadata": {
        "id": "ZPRzk_27fz7R",
        "colab": {
          "base_uri": "https://localhost:8080/",
          "height": 297
        },
        "outputId": "15d163e3-6ed7-43d4-e1ac-a568b8a04992"
      },
      "source": [
        "# plot train accuracy, train loss, test accurasy and test loss\n",
        "plt.figure(1)\n",
        "plt.subplot(211)\n",
        "plt.plot(history.history['accuracy'])\n",
        "plt.plot(history.history['val_accuracy'])\n",
        "plt.title('Model Accuracy')\n",
        "plt.ylabel('Accuracy')\n",
        "plt.xlabel('Epoch')\n",
        "plt.legend(['Training', 'Validation'], loc='lower right')\n",
        "\n",
        "plt.subplot(212)\n",
        "plt.plot(history.history['loss'])\n",
        "plt.plot(history.history['val_loss'])\n",
        "plt.title('Model Loss')\n",
        "plt.ylabel('Loss')\n",
        "plt.xlabel('Epoch')\n",
        "plt.legend(['Training', 'Validation'], loc='upper right')\n",
        "plt.tight_layout()\n",
        "plt.show()\n"
      ],
      "execution_count": 13,
      "outputs": [
        {
          "output_type": "display_data",
          "data": {
            "image/png": "[encoded data removed]",
            "text/plain": [
              "<Figure size 432x288 with 2 Axes>"
            ]
          },
          "metadata": {
            "needs_background": "light"
          }
        }
      ]
    },
    {
      "cell_type": "code",
      "metadata": {
        "id": "FdM29hd64-jp",
        "colab": {
          "base_uri": "https://localhost:8080/"
        },
        "outputId": "dbe85f11-dcb6-4b66-edd7-401573e17ed1"
      },
      "source": [
        "score = model.evaluate(it_train, verbose=0)\n",
        "print(\"Train accuracy: {:0.2f}%\".format(score[1]*100))\n",
        "print(\"Train loss: {:0.2f}\".format(score[0]))"
      ],
      "execution_count": 14,
      "outputs": [
        {
          "output_type": "stream",
          "name": "stdout",
          "text": [
            "Train accuracy: 98.80%\n",
            "Train loss: 0.07\n"
          ]
        }
      ]
    },
    {
      "cell_type": "code",
      "metadata": {
        "id": "HCGWW17iJ6Qs",
        "colab": {
          "base_uri": "https://localhost:8080/"
        },
        "outputId": "5108920c-f0a7-43ab-f885-2db58c7d6c91"
      },
      "source": [
        "score = model.evaluate(it_test, verbose=0)\n",
        "print(\"Test accuracy: {:0.2f}%\".format(score[1]*100))\n",
        "print(\"Test loss: {:0.2f}\".format(score[0]))"
      ],
      "execution_count": 15,
      "outputs": [
        {
          "output_type": "stream",
          "name": "stdout",
          "text": [
            "Test accuracy: 98.15%\n",
            "Test loss: 0.12\n"
          ]
        }
      ]
    },
    {
      "cell_type": "code",
      "metadata": {
        "id": "f06icTH80BLS",
        "colab": {
          "base_uri": "https://localhost:8080/",
          "height": 428
        },
        "outputId": "fa6455b2-46cc-4895-876f-1f164aaa9ed1"
      },
      "source": [
        "# plot confusion matrix\n",
        "probabilities = model.predict(it_test)\n",
        "y_pred = probabilities.argmax(axis=-1)\n",
        "y_true = it_test.classes\n",
        "df_cm = pd.DataFrame(confusion_matrix(y_true, y_pred), \n",
        "                     index = [i for i in ('normal', 'blast')],\n",
        "                     columns = [i for i in ('normal', 'blast')])\n",
        "                     \n",
        "plt.figure(figsize = (7,7))\n",
        "sn.heatmap(df_cm, fmt=\".4g\", annot=True, annot_kws={\"size\": 14}, cmap=plt.cm.Blues)\n",
        "plt.show()"
      ],
      "execution_count": 16,
      "outputs": [
        {
          "output_type": "display_data",
          "data": {
            "image/png": "[encoded data removed]",
            "text/plain": [
              "<Figure size 504x504 with 2 Axes>"
            ]
          },
          "metadata": {
            "needs_background": "light"
          }
        }
      ]
    },
    {
      "cell_type": "code",
      "metadata": {
        "id": "2AMGZscu0P85",
        "colab": {
          "base_uri": "https://localhost:8080/"
        },
        "outputId": "8674d646-20ae-4ce4-9a7e-6f2faab12ef7"
      },
      "source": [
        "# show percision, recal and fscore for class 1 and class 2\n",
        "precision, recall, fscore, _ = precision_recall_fscore_support(y_true, y_pred)\n",
        "print(f\"[Test set precision] class_1: is {precision[0]:0.3f}, class_2 is: {precision[1]:0.3f}\")\n",
        "print(f\"[Test set    recall] class_1: is {recall[0]:0.3f}, class_2 is: {recall[1]:0.3f}\")\n",
        "print(f\"[Test set   f1score] class_1: is {fscore[0]:0.3f}, class_2 is: {fscore[1]:0.3f}\")"
      ],
      "execution_count": 17,
      "outputs": [
        {
          "output_type": "stream",
          "name": "stdout",
          "text": [
            "[Test set precision] class_1: is 1.000, class_2 is: 0.964\n",
            "[Test set    recall] class_1: is 0.963, class_2 is: 1.000\n",
            "[Test set   f1score] class_1: is 0.981, class_2 is: 0.982\n"
          ]
        }
      ]
    }
  ]
}